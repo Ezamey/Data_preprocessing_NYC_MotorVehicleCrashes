{
 "cells": [
  {
   "cell_type": "code",
   "execution_count": 9,
   "metadata": {},
   "outputs": [],
   "source": [
    "import pandas as pd"
   ]
  },
  {
   "cell_type": "code",
   "execution_count": 10,
   "metadata": {},
   "outputs": [],
   "source": [
    "path = (\"../datasets/Motor_Vehicle_Collisions_-_Crashes.csv\")"
   ]
  },
  {
   "cell_type": "code",
   "execution_count": 11,
   "metadata": {},
   "outputs": [],
   "source": [
    "chunksize = 100000\n",
    "chunks = []\n",
    "for chunk in pd.read_csv(path,chunksize=chunksize,low_memory=False):\n",
    "    chunks.append(chunk)\n",
    "df = pd.concat(chunks,axis=0)"
   ]
  },
  {
   "cell_type": "code",
   "execution_count": 12,
   "metadata": {},
   "outputs": [
    {
     "data": {
      "text/plain": [
       "Index(['CRASH DATE', 'CRASH TIME', 'BOROUGH', 'ZIP CODE', 'LATITUDE',\n",
       "       'LONGITUDE', 'LOCATION', 'ON STREET NAME', 'CROSS STREET NAME',\n",
       "       'OFF STREET NAME', 'NUMBER OF PERSONS INJURED',\n",
       "       'NUMBER OF PERSONS KILLED', 'NUMBER OF PEDESTRIANS INJURED',\n",
       "       'NUMBER OF PEDESTRIANS KILLED', 'NUMBER OF CYCLIST INJURED',\n",
       "       'NUMBER OF CYCLIST KILLED', 'NUMBER OF MOTORIST INJURED',\n",
       "       'NUMBER OF MOTORIST KILLED', 'CONTRIBUTING FACTOR VEHICLE 1',\n",
       "       'CONTRIBUTING FACTOR VEHICLE 2', 'CONTRIBUTING FACTOR VEHICLE 3',\n",
       "       'CONTRIBUTING FACTOR VEHICLE 4', 'CONTRIBUTING FACTOR VEHICLE 5',\n",
       "       'COLLISION_ID', 'VEHICLE TYPE CODE 1', 'VEHICLE TYPE CODE 2',\n",
       "       'VEHICLE TYPE CODE 3', 'VEHICLE TYPE CODE 4', 'VEHICLE TYPE CODE 5'],\n",
       "      dtype='object')"
      ]
     },
     "execution_count": 12,
     "metadata": {},
     "output_type": "execute_result"
    }
   ],
   "source": [
    "df.columns"
   ]
  },
  {
   "cell_type": "code",
   "execution_count": 15,
   "metadata": {},
   "outputs": [],
   "source": [
    "df.columns= df.columns.str.lower()"
   ]
  },
  {
   "cell_type": "code",
   "execution_count": 16,
   "metadata": {},
   "outputs": [
    {
     "data": {
      "text/plain": [
       "Index(['crash date', 'crash time', 'borough', 'zip code', 'latitude',\n",
       "       'longitude', 'location', 'on street name', 'cross street name',\n",
       "       'off street name', 'number of persons injured',\n",
       "       'number of persons killed', 'number of pedestrians injured',\n",
       "       'number of pedestrians killed', 'number of cyclist injured',\n",
       "       'number of cyclist killed', 'number of motorist injured',\n",
       "       'number of motorist killed', 'contributing factor vehicle 1',\n",
       "       'contributing factor vehicle 2', 'contributing factor vehicle 3',\n",
       "       'contributing factor vehicle 4', 'contributing factor vehicle 5',\n",
       "       'collision_id', 'vehicle type code 1', 'vehicle type code 2',\n",
       "       'vehicle type code 3', 'vehicle type code 4', 'vehicle type code 5'],\n",
       "      dtype='object')"
      ]
     },
     "execution_count": 16,
     "metadata": {},
     "output_type": "execute_result"
    }
   ],
   "source": [
    "df.columns"
   ]
  },
  {
   "cell_type": "code",
   "execution_count": 17,
   "metadata": {},
   "outputs": [],
   "source": [
    "df.columns= df.columns.str.replace(\" \",\"_\")"
   ]
  },
  {
   "cell_type": "code",
   "execution_count": 18,
   "metadata": {},
   "outputs": [
    {
     "data": {
      "text/plain": [
       "Index(['crash_date', 'crash_time', 'borough', 'zip_code', 'latitude',\n",
       "       'longitude', 'location', 'on_street_name', 'cross_street_name',\n",
       "       'off_street_name', 'number_of_persons_injured',\n",
       "       'number_of_persons_killed', 'number_of_pedestrians_injured',\n",
       "       'number_of_pedestrians_killed', 'number_of_cyclist_injured',\n",
       "       'number_of_cyclist_killed', 'number_of_motorist_injured',\n",
       "       'number_of_motorist_killed', 'contributing_factor_vehicle_1',\n",
       "       'contributing_factor_vehicle_2', 'contributing_factor_vehicle_3',\n",
       "       'contributing_factor_vehicle_4', 'contributing_factor_vehicle_5',\n",
       "       'collision_id', 'vehicle_type_code_1', 'vehicle_type_code_2',\n",
       "       'vehicle_type_code_3', 'vehicle_type_code_4', 'vehicle_type_code_5'],\n",
       "      dtype='object')"
      ]
     },
     "execution_count": 18,
     "metadata": {},
     "output_type": "execute_result"
    }
   ],
   "source": [
    "df.columns"
   ]
  },
  {
   "cell_type": "code",
   "execution_count": 26,
   "metadata": {},
   "outputs": [
    {
     "name": "stdout",
     "output_type": "stream",
     "text": [
      "<class 'pandas.core.frame.DataFrame'>\n",
      "RangeIndex: 1737297 entries, 0 to 1737296\n",
      "Data columns (total 29 columns):\n",
      " #   Column                         Dtype  \n",
      "---  ------                         -----  \n",
      " 0   crash_date                     object \n",
      " 1   crash_time                     object \n",
      " 2   borough                        object \n",
      " 3   zip_code                       object \n",
      " 4   latitude                       float64\n",
      " 5   longitude                      float64\n",
      " 6   location                       object \n",
      " 7   on_street_name                 object \n",
      " 8   cross_street_name              object \n",
      " 9   off_street_name                object \n",
      " 10  number_of_persons_injured      float64\n",
      " 11  number_of_persons_killed       float64\n",
      " 12  number_of_pedestrians_injured  int64  \n",
      " 13  number_of_pedestrians_killed   int64  \n",
      " 14  number_of_cyclist_injured      int64  \n",
      " 15  number_of_cyclist_killed       int64  \n",
      " 16  number_of_motorist_injured     int64  \n",
      " 17  number_of_motorist_killed      int64  \n",
      " 18  contributing_factor_vehicle_1  object \n",
      " 19  contributing_factor_vehicle_2  object \n",
      " 20  contributing_factor_vehicle_3  object \n",
      " 21  contributing_factor_vehicle_4  object \n",
      " 22  contributing_factor_vehicle_5  object \n",
      " 23  collision_id                   int64  \n",
      " 24  vehicle_type_code_1            object \n",
      " 25  vehicle_type_code_2            object \n",
      " 26  vehicle_type_code_3            object \n",
      " 27  vehicle_type_code_4            object \n",
      " 28  vehicle_type_code_5            object \n",
      "dtypes: float64(4), int64(7), object(18)\n",
      "memory usage: 384.4+ MB\n"
     ]
    }
   ],
   "source": [
    "df.info()"
   ]
  },
  {
   "cell_type": "code",
   "execution_count": 28,
   "metadata": {},
   "outputs": [
    {
     "ename": "AttributeError",
     "evalue": "'Series' object has no attribute 'to_numeric'",
     "output_type": "error",
     "traceback": [
      "\u001b[1;31m---------------------------------------------------------------------------\u001b[0m",
      "\u001b[1;31mAttributeError\u001b[0m                            Traceback (most recent call last)",
      "\u001b[1;32m<ipython-input-28-f03a95f86db9>\u001b[0m in \u001b[0;36m<module>\u001b[1;34m\u001b[0m\n\u001b[1;32m----> 1\u001b[1;33m \u001b[0mdf\u001b[0m\u001b[1;33m[\u001b[0m\u001b[1;34m\"longitude\"\u001b[0m\u001b[1;33m]\u001b[0m\u001b[1;33m.\u001b[0m\u001b[0mto_numeric\u001b[0m\u001b[1;33m(\u001b[0m\u001b[1;33m)\u001b[0m\u001b[1;33m\u001b[0m\u001b[1;33m\u001b[0m\u001b[0m\n\u001b[0m",
      "\u001b[1;32mD:\\V_env\\becode_venv\\lib\\site-packages\\pandas\\core\\generic.py\u001b[0m in \u001b[0;36m__getattr__\u001b[1;34m(self, name)\u001b[0m\n\u001b[0;32m   5137\u001b[0m             \u001b[1;32mif\u001b[0m \u001b[0mself\u001b[0m\u001b[1;33m.\u001b[0m\u001b[0m_info_axis\u001b[0m\u001b[1;33m.\u001b[0m\u001b[0m_can_hold_identifiers_and_holds_name\u001b[0m\u001b[1;33m(\u001b[0m\u001b[0mname\u001b[0m\u001b[1;33m)\u001b[0m\u001b[1;33m:\u001b[0m\u001b[1;33m\u001b[0m\u001b[1;33m\u001b[0m\u001b[0m\n\u001b[0;32m   5138\u001b[0m                 \u001b[1;32mreturn\u001b[0m \u001b[0mself\u001b[0m\u001b[1;33m[\u001b[0m\u001b[0mname\u001b[0m\u001b[1;33m]\u001b[0m\u001b[1;33m\u001b[0m\u001b[1;33m\u001b[0m\u001b[0m\n\u001b[1;32m-> 5139\u001b[1;33m             \u001b[1;32mreturn\u001b[0m \u001b[0mobject\u001b[0m\u001b[1;33m.\u001b[0m\u001b[0m__getattribute__\u001b[0m\u001b[1;33m(\u001b[0m\u001b[0mself\u001b[0m\u001b[1;33m,\u001b[0m \u001b[0mname\u001b[0m\u001b[1;33m)\u001b[0m\u001b[1;33m\u001b[0m\u001b[1;33m\u001b[0m\u001b[0m\n\u001b[0m\u001b[0;32m   5140\u001b[0m \u001b[1;33m\u001b[0m\u001b[0m\n\u001b[0;32m   5141\u001b[0m     \u001b[1;32mdef\u001b[0m \u001b[0m__setattr__\u001b[0m\u001b[1;33m(\u001b[0m\u001b[0mself\u001b[0m\u001b[1;33m,\u001b[0m \u001b[0mname\u001b[0m\u001b[1;33m:\u001b[0m \u001b[0mstr\u001b[0m\u001b[1;33m,\u001b[0m \u001b[0mvalue\u001b[0m\u001b[1;33m)\u001b[0m \u001b[1;33m->\u001b[0m \u001b[1;32mNone\u001b[0m\u001b[1;33m:\u001b[0m\u001b[1;33m\u001b[0m\u001b[1;33m\u001b[0m\u001b[0m\n",
      "\u001b[1;31mAttributeError\u001b[0m: 'Series' object has no attribute 'to_numeric'"
     ]
    }
   ],
   "source": [
    ".to_numeric()"
   ]
  },
  {
   "cell_type": "code",
   "execution_count": 29,
   "metadata": {},
   "outputs": [
    {
     "data": {
      "text/plain": [
       "0                NaN\n",
       "1                NaN\n",
       "2                NaN\n",
       "3                NaN\n",
       "4         -73.979820\n",
       "             ...    \n",
       "1737292   -73.998196\n",
       "1737293   -73.846666\n",
       "1737294   -73.857908\n",
       "1737295   -73.773575\n",
       "1737296   -73.846021\n",
       "Name: longitude, Length: 1737297, dtype: float64"
      ]
     },
     "execution_count": 29,
     "metadata": {},
     "output_type": "execute_result"
    }
   ],
   "source": [
    "pd.to_numeric(df[\"longitude\"])"
   ]
  },
  {
   "cell_type": "code",
   "execution_count": null,
   "metadata": {},
   "outputs": [],
   "source": []
  }
 ],
 "metadata": {
  "kernelspec": {
   "display_name": "becode",
   "language": "python",
   "name": "becode"
  },
  "language_info": {
   "codemirror_mode": {
    "name": "ipython",
    "version": 3
   },
   "file_extension": ".py",
   "mimetype": "text/x-python",
   "name": "python",
   "nbconvert_exporter": "python",
   "pygments_lexer": "ipython3",
   "version": "3.6.7"
  }
 },
 "nbformat": 4,
 "nbformat_minor": 4
}
